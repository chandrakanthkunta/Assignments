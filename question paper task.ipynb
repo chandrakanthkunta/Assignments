{
 "cells": [
  {
   "cell_type": "markdown",
   "id": "2a8667da-37a9-4182-9a9b-2e2109f424bd",
   "metadata": {},
   "source": [
    "# Question paper task"
   ]
  },
  {
   "cell_type": "markdown",
   "id": "b604bda9-7b75-409d-a6eb-8a2081bd424e",
   "metadata": {},
   "source": [
    "### 1.What will be the output of the following python program"
   ]
  },
  {
   "cell_type": "code",
   "execution_count": 1,
   "id": "fabc3a10-3d86-4190-801c-33d803e3c52a",
   "metadata": {},
   "outputs": [
    {
     "name": "stdout",
     "output_type": "stream",
     "text": [
      "True\n"
     ]
    }
   ],
   "source": [
    "def foo(x): #You have a function foo that takes a list x as an argument.\n",
    "    x[0] = ['def']\n",
    "    x[1] = ['abc']# replace the elements at these indices with lists containing the strings 'def' and 'abc', respectively.\n",
    "    return id(x) #The function then returns the id of the modified list x.\n",
    "q=['abc','def' ]#a list q initially containing the strings 'abc' and 'def'.\n",
    "print(id(q)==foo(q))   "
   ]
  },
  {
   "cell_type": "code",
   "execution_count": 2,
   "id": "b400d36d-34f6-4e90-8c74-d808aaa10b98",
   "metadata": {},
   "outputs": [
    {
     "name": "stdout",
     "output_type": "stream",
     "text": [
      "True\n"
     ]
    }
   ],
   "source": [
    "# explanation:\n",
    "def foo(x): #This line defines a function named foo that takes a single parameter x.\n",
    "    \n",
    "    '''\n",
    "    option - 1 [ Error ] :\n",
    "    it was wrong because the given code is executing ,without any error.\n",
    "\n",
    "    option -2 [ none ] :\n",
    "    it was wrong because ,when we dont write return statement it will give None,in the given function we have return statement.\n",
    "\n",
    "    option -3[ False ] :\n",
    "    it was also wrong because ,the ids of q and foo(q) are same ,it was right when \n",
    "\n",
    "    option -4[ True ] :\n",
    "    it was right becuase the given function prints true when it is executed \n",
    "    \n",
    "    '''\n",
    "    \n",
    "    x[0]=['def'] #Inside the function foo, this line modifies the first element of the list x by assigning it a new list ['def'].\n",
    "    \n",
    "    x[1]=['abc'] ##x[1] = ['abc']: Similarly, this line modifies the second element of the list x by assigning it a new list ['abc'].\n",
    "    \n",
    "    return id(x) #return id(x): The function returns the identity of the object x using the id() function. This identity is a unique identifier for the object in the current Python process.\n",
    "\n",
    "q=['abc','def']    #q = ['abc', 'def']: This line creates a list q with two string elements: 'abc' and 'def'.\n",
    "\n",
    "print(id(q)==foo(q)) "
   ]
  },
  {
   "cell_type": "markdown",
   "id": "9177b7ea-94f5-403e-bac4-ab94609f2e84",
   "metadata": {},
   "source": [
    "### 2)What will be the output of the following python code"
   ]
  },
  {
   "cell_type": "code",
   "execution_count": 3,
   "id": "69b288ab-53ac-4cb1-9a3e-885437bcc392",
   "metadata": {},
   "outputs": [
    {
     "name": "stdout",
     "output_type": "stream",
     "text": [
      "2\n"
     ]
    }
   ],
   "source": [
    "def fun():\n",
    "    try:\n",
    "        return 1#The try block contains a return 1 statement.\n",
    "    finally:\n",
    "        return 2#The finally block contains a return 1 statement.\n",
    "k = fun()\n",
    "print(k)"
   ]
  },
  {
   "cell_type": "code",
   "execution_count": 4,
   "id": "ca36cae8-c22d-4939-b597-8c22956808d6",
   "metadata": {},
   "outputs": [
    {
     "name": "stdout",
     "output_type": "stream",
     "text": [
      "2\n"
     ]
    }
   ],
   "source": [
    "def fun(): ## wring funciton which takes no arguments\n",
    "    '''\n",
    "    option -1 [error,there is more than one return statement in a single try finally block] :\n",
    "     it was wrong because,The code will not raise an error, even though there are two return statements in the try-finally block.\n",
    "     \n",
    "    option -2 [1]:\n",
    "    it was wrong because ,the value returned is not from the try block but from the finally block.\n",
    "    \n",
    "    option -3 [1  2]:\n",
    "    it was wrong because,The try block has return 1, but before the function exits, the finally block is executed, and finally block have return2. So, the function returns 2.\n",
    "    \n",
    "    option -4[2]:\n",
    "    it was correct answer ,The finally block always executes, and in this case, it overrides the return value from the try block, so the function returns 2.\n",
    "    The value returned from the finally block is assigned to k, and when print(k) is executed, it prints the value 2.\n",
    "    \n",
    "    '''\n",
    "    try: # \n",
    "        return 1\n",
    "    finally: #\n",
    "        return 2\n",
    "k=fun() # the above function is assigned to the variable\n",
    "print(k) ## printing the k"
   ]
  },
  {
   "cell_type": "markdown",
   "id": "b77b8390-7c89-424d-a00e-351b88681e5e",
   "metadata": {},
   "source": [
    "### 3.What will be the output of the following code snippet"
   ]
  },
  {
   "cell_type": "code",
   "execution_count": 5,
   "id": "4f24e006-1a18-42da-84b2-158372a7d84e",
   "metadata": {},
   "outputs": [
    {
     "name": "stdout",
     "output_type": "stream",
     "text": [
      "Local\n"
     ]
    }
   ],
   "source": [
    "def func():\n",
    "    global value# value is initially set to \"Global\" outside the function.\n",
    "    value=\"Local\"#  value as a global variable using the global keyword and set its value to \"Local.\"\n",
    "value =\"Global\"\n",
    "func()\n",
    "print(value)#After the function call, the value of the global variable value is printed."
   ]
  },
  {
   "cell_type": "markdown",
   "id": "b169d870-09b5-44a8-b1d8-d3f96549fb93",
   "metadata": {},
   "source": [
    "### 4 ) _______ expectations are raised as a result of an error in opening a particular file."
   ]
  },
  {
   "cell_type": "markdown",
   "id": "a41976a6-b51c-4a49-87f0-38a3d3fdb0d5",
   "metadata": {},
   "source": [
    "ValueError: Incorrect value provided to a function or operation. TypeError: Inappropriate type used in an operation or function. ImportError: Issue with importing a module or package. IOError: Input/Output operation error, such as a missing file.\n",
    "\n",
    "the specific type of exception that is raised when there's an issue with opening a file is called an IOError. This means Input/Output Error. It's like a signal from Python telling you, \"Hey, there's a problem with reading or writing to this file!\""
   ]
  },
  {
   "cell_type": "markdown",
   "id": "729485da-4160-49cb-85d9-2047fc0cca56",
   "metadata": {},
   "source": [
    "### 5 ) In python we do not specify types, it is directly interpreted by the compiler , so consider the following opeations to be performed."
   ]
  },
  {
   "cell_type": "markdown",
   "id": "14baf7c1-0ef0-4b86-abbd-3b8adc8b5a82",
   "metadata": {},
   "source": [
    "### a)x= 13//2 b)x= int(13/2) c) x=13%2 d)all of the mentioned"
   ]
  },
  {
   "cell_type": "code",
   "execution_count": 10,
   "id": "4c98cdfe-4252-45ea-bedf-b545bebf617f",
   "metadata": {},
   "outputs": [
    {
     "data": {
      "text/plain": [
       "1"
      ]
     },
     "execution_count": 10,
     "metadata": {},
     "output_type": "execute_result"
    }
   ],
   "source": [
    "x=13/2 ## it is directly interpreted by the compiler \n",
    "x=int(13/2)\n",
    "x=13%2\n",
    "x"
   ]
  },
  {
   "cell_type": "markdown",
   "id": "30a3d997-a70f-4fed-af40-b3a24b1d7ac0",
   "metadata": {},
   "source": [
    "### 6 ) what will be the output of the following python code\n",
    "a)index error b)name error c)value erro d)syntactical error"
   ]
  },
  {
   "cell_type": "code",
   "execution_count": 11,
   "id": "22ed4650-b4cd-44a5-a36a-b013674b1571",
   "metadata": {},
   "outputs": [
    {
     "ename": "NameError",
     "evalue": "name 't' is not defined",
     "output_type": "error",
     "traceback": [
      "\u001b[1;31m---------------------------------------------------------------------------\u001b[0m",
      "\u001b[1;31mNameError\u001b[0m                                 Traceback (most recent call last)",
      "Cell \u001b[1;32mIn[11], line 1\u001b[0m\n\u001b[1;32m----> 1\u001b[0m t[\u001b[38;5;241m5\u001b[39m]\n",
      "\u001b[1;31mNameError\u001b[0m: name 't' is not defined"
     ]
    }
   ],
   "source": [
    "t[5] # we are not assigning anything to the t, before we accessing t[5] \n"
   ]
  },
  {
   "cell_type": "markdown",
   "id": "10c6a613-1fd1-4c01-aea3-aefd0396d872",
   "metadata": {},
   "source": [
    "### 7 ) A while loop in python is used for what type of iteration.\n",
    "a)indefinite b)discriminant c)definite d)indeterminate\r\n",
    "\r\n",
    "In Python, indefinite iteration is performed with a while loop."
   ]
  },
  {
   "cell_type": "markdown",
   "id": "95dbe6ec-36a8-4390-84c4-4f35f05869a6",
   "metadata": {},
   "source": [
    "### 8 ) what will be the output of the following python code ?\n",
    "a)a b c d e b)abcde c)i i i i i i i d)Error option 4 is correct\r\n",
    "\r\n"
   ]
  },
  {
   "cell_type": "code",
   "execution_count": 12,
   "id": "ef1a7b3a-287f-4854-8939-2b5b759d03c6",
   "metadata": {},
   "outputs": [
    {
     "ename": "NameError",
     "evalue": "name 'i' is not defined",
     "output_type": "error",
     "traceback": [
      "\u001b[1;31m---------------------------------------------------------------------------\u001b[0m",
      "\u001b[1;31mNameError\u001b[0m                                 Traceback (most recent call last)",
      "Cell \u001b[1;32mIn[12], line 2\u001b[0m\n\u001b[0;32m      1\u001b[0m x \u001b[38;5;241m=\u001b[39m \u001b[38;5;124m\"\u001b[39m\u001b[38;5;124m abcde \u001b[39m\u001b[38;5;124m\"\u001b[39m\n\u001b[1;32m----> 2\u001b[0m \u001b[38;5;28;01mwhile\u001b[39;00m i \u001b[38;5;129;01min\u001b[39;00m x: \u001b[38;5;66;03m# The while loop in Python is typically used with a condition that evaluates to either True or False. In your initial code:\u001b[39;00m\n\u001b[0;32m      3\u001b[0m     \u001b[38;5;28mprint\u001b[39m(i,end\u001b[38;5;241m=\u001b[39m\u001b[38;5;124m\"\u001b[39m\u001b[38;5;124m \u001b[39m\u001b[38;5;124m\"\u001b[39m)\n",
      "\u001b[1;31mNameError\u001b[0m: name 'i' is not defined"
     ]
    }
   ],
   "source": [
    "x = \" abcde \"\n",
    "while i in x: # The while loop in Python is typically used with a condition that evaluates to either True or False. In your initial code:\n",
    "    print(i,end=\" \")"
   ]
  },
  {
   "cell_type": "markdown",
   "id": "5c686458-ab6a-482f-b2a0-68d6d02e095e",
   "metadata": {},
   "source": [
    "### 9 ) what is the main advantages of using decorators in python ?\n",
    "a)They make the code more complex b)They simplify the syntax of the decorated. c)They reduce the performance of the code. d)They provide additional security features.\n",
    "\n",
    "option 2 is correct The main advantage of using decorators in Python is that they simplify the syntax of the decorated functions by allowing yo\n",
    "\n"
   ]
  },
  {
   "cell_type": "markdown",
   "id": "016b0e4b-978a-48dd-8158-f61a7446fe26",
   "metadata": {},
   "source": [
    "### ### 10) if return statement is not used inside the funciton,the funciton will return :\r\n",
    "a)None b)0 c)Null d)Arbitary Value"
   ]
  },
  {
   "cell_type": "code",
   "execution_count": 13,
   "id": "add291b8-1b70-4ee6-859e-6daa5cd607f3",
   "metadata": {},
   "outputs": [],
   "source": [
    "def foo():\n",
    "    x=0"
   ]
  },
  {
   "cell_type": "markdown",
   "id": "805b10bc-8278-444c-8db1-10084a522fd8",
   "metadata": {},
   "source": [
    "The correct answer is: a) None\n",
    "\n",
    "In Python, if a function does not contain a return statement, it implicitly returns None. This is the default behavior when the function reaches the end without encountering a return statement."
   ]
  },
  {
   "cell_type": "markdown",
   "id": "ff8621b5-d3f6-4d14-9cce-00cf43308e72",
   "metadata": {},
   "source": [
    "### 11) What is called when a function is defined inside a class?\n",
    "a) class\n",
    "\n",
    "b) function\n",
    "\n",
    "c) method\n",
    "\n",
    "d) module\n",
    "\n",
    "Explanation In Python, when a function is defined inside a class, it is referred to as a method. Therefore, the correct answer is:\n",
    "\n",
    "Answer: c) method"
   ]
  },
  {
   "cell_type": "markdown",
   "id": "85f31e4a-9d53-47f7-b3a1-56e9d3873f4b",
   "metadata": {},
   "source": [
    "### 12. Which operator is used in Python to import modules from packages?\n",
    "a).\n",
    "\n",
    "b)*\n",
    "\n",
    "c) ->\n",
    "\n",
    "d) &\n",
    "\n",
    "Explanation: In Python, the dot (.) operator is used to import modules from packages. Therefore, option 'a' is the correct answer.\n",
    "\n",
    "Conclusion: Using the dot operator in import statements helps organize code into hierarchical structures, facilitating the management of modules within packages."
   ]
  },
  {
   "cell_type": "code",
   "execution_count": 14,
   "id": "676ab594-65fc-43a2-ad8a-2339d1097213",
   "metadata": {},
   "outputs": [
    {
     "name": "stdout",
     "output_type": "stream",
     "text": [
      "6\n"
     ]
    }
   ],
   "source": [
    "13.\n",
    "def getMonth (m):\n",
    "\n",
    "    if m<1 or m>12:\n",
    "\n",
    "        raise ValueError(\"Invalid\")\n",
    "\n",
    "    print(m)\n",
    "\n",
    "getMonth (6)"
   ]
  },
  {
   "cell_type": "markdown",
   "id": "278e81a7-06c8-43ee-8f43-a9796215c8dd",
   "metadata": {},
   "source": [
    "a) ValueError\n",
    "\n",
    "b) Invalid\n",
    "\n",
    "c) 6\n",
    "\n",
    "d) ValueError(\"Invalid\")"
   ]
  },
  {
   "cell_type": "code",
   "execution_count": 15,
   "id": "20942cac-bd69-4fb1-898b-acbfc9d857e1",
   "metadata": {},
   "outputs": [
    {
     "name": "stdout",
     "output_type": "stream",
     "text": [
      "6\n"
     ]
    }
   ],
   "source": [
    "def getMonth (m):\n",
    "\n",
    "    if m<1 or m>12:\n",
    "        raise ValueError(\"Invalid\")\n",
    "\n",
    "    print(m)\n",
    "getMonth (6)"
   ]
  },
  {
   "cell_type": "markdown",
   "id": "3cb2af14-cf63-45b9-89e7-15b3590b56b4",
   "metadata": {},
   "source": [
    "### 14. in the Python Programming Language, syntax error is detected by at\n",
    "a) Interpreter/Compile time\n",
    "\n",
    "b) Run time / Interpreter\n",
    "\n",
    "c) Interpreter / Run time\n",
    "\n",
    "d) Compile time / Run time\n",
    "\n",
    "Explanation a) Interpreter/Compile time: This suggests that syntax errors are detected by both the interpreter and the compiler. b) Run time / Interpreter: This suggests that syntax errors are detected during runtime by the interpreter. c) Interpreter / Run time: This suggests that syntax errors are detected by the interpreter during runtime. d) Compile time / Run time: This suggests that syntax errors are detected by both the compiler and during runtime. Python is an interpreted language, and syntax errors are typically detected by the interpreter during compile time, so the correct option is:\n",
    "\n",
    "Answer: a) Interpreter/Compile time\n",
    "\n",
    "This means that Python checks for syntax errors when the code is being compiled or interpreted, not during runtime."
   ]
  },
  {
   "cell_type": "markdown",
   "id": "2a500a69-1e6a-46cd-8cfb-0fd38359d39f",
   "metadata": {},
   "source": [
    "### 15.class Book: def_init__(self,author): self.author-author\n",
    "\n",
    "book1=Book(\"V.M.Shah\") book2=book1\n",
    "\n",
    "a) Both book1 and book2 will have reference to two different objects of class Book\n",
    "\n",
    "b) id(book1) and id(book2) will have same value\n",
    "\n",
    "c) It will throw error as multiple references to same object is not possible\n",
    "\n",
    "d) None of the above"
   ]
  },
  {
   "cell_type": "code",
   "execution_count": 16,
   "id": "adb29359-3e8b-4b23-8c78-05720d20a098",
   "metadata": {},
   "outputs": [
    {
     "data": {
      "text/plain": [
       "(2392065582480, 2392065582480)"
      ]
     },
     "execution_count": 16,
     "metadata": {},
     "output_type": "execute_result"
    }
   ],
   "source": [
    "class Book:\n",
    "    def __init__(self,author):\n",
    "        self.author=author \n",
    "        \n",
    "book1=Book(\"V.M.Shah\")\n",
    "book2=book1\n",
    "id(book1), id(book2)"
   ]
  },
  {
   "cell_type": "markdown",
   "id": "bcd08a48-aec4-4e27-a722-fc6ab28efa3b",
   "metadata": {},
   "source": [
    "### 16) How to create a new column 'Revenue', which has value equals to the Quantity* UnitPrice of the current row?\n",
    "a) df['Revenue'] = df['Quantity']* df['UnitPrice']\n",
    "\n",
    "b) df['Revenue'] = df.apply(lambda x: x['Quantity']* x['UnitPrice'], axis = 1)\n",
    "\n",
    "c) df['Revenue'] = df.apply(lambda x: x['Quantity']* x['UnitPrice'], axis = 0)\n",
    "\n",
    "d) df['Revenue'] = df['Quantity'] ** df['UnitPrice']"
   ]
  },
  {
   "cell_type": "markdown",
   "id": "89e9c113-611f-4f9e-a410-32b3175eeac9",
   "metadata": {},
   "source": [
    "The correct option is:\n",
    "a) df['Revenue'] = df['Quantity']* df['UnitPrice']\n",
    "\n",
    "This means creating a new column 'Revenue' by multiplying 'Quantity' and 'UnitPrice' for each row."
   ]
  },
  {
   "cell_type": "markdown",
   "id": "3e75f7f6-588a-4d29-a4af-6457be6cc047",
   "metadata": {},
   "source": [
    "17. What is the syntax to find Categorical wise revenue?\n",
    "a) df.groupby('Category')['Revenue'].mean()\n",
    "\n",
    "b) df.groupby('Category')['Revenue'].sum()\n",
    "\n",
    "c) df.groupby('Category')['Revenue'].agg(np.su m)\n",
    "\n",
    "d) df.groupby('Category')['Revenue'].agg('sum')"
   ]
  },
  {
   "cell_type": "code",
   "execution_count": null,
   "id": "beaa413e-5a7a-4564-a36c-20249d8e201f",
   "metadata": {},
   "outputs": [],
   "source": [
    "Explanation:\n",
    "Grouping the DataFrame 'df' by the 'Category' column and calculating the sum of the 'Revenue' column for each group.\n",
    "\n",
    "df.groupby('Category')['Revenue'].sum()"
   ]
  },
  {
   "cell_type": "markdown",
   "id": "c3996c1a-eaac-4998-a58e-deae954f44dd",
   "metadata": {},
   "source": [
    "### 18. To find the average quantity wrt to date and product, what is the correct syntax?\n",
    "a) df.groupby(['Date', 'Product'])['Quantity'].avg()\r\n",
    "\r\n",
    "b) df.groupby(['Date', 'Product'])['Quantity'].mean()\r\n",
    "\r\n",
    "c) df.groupby(['Product', 'Date'])['Quantity'].avg()\r\n",
    "\r\n",
    "d) df.groupby(['Product', 'Mean'])['Quantity'].mean()\r\n",
    "\r\n",
    "Explanation: Grouping the DataFrame 'df' by both 'Date' and 'Product' columns and calculating the mean of the 'Quantity' column for each group."
   ]
  },
  {
   "cell_type": "markdown",
   "id": "d4139e39-307e-4aa8-bad6-603384cb2d9a",
   "metadata": {},
   "source": [
    "### 19). Categorical wise revenue for Beverage and Food respectively are\n",
    "a) 28.5, 6.0\n",
    "\n",
    "b) 6.0, 27.5\n",
    "\n",
    "c) 28.5, 7.0\n",
    "\n",
    "d) 7.0, 28.5"
   ]
  },
  {
   "cell_type": "code",
   "execution_count": 19,
   "id": "d2ec063f-fbd9-4c5c-b8dd-acdf1ec98661",
   "metadata": {},
   "outputs": [
    {
     "data": {
      "text/plain": [
       "(21.0, 6.5)"
      ]
     },
     "execution_count": 19,
     "metadata": {},
     "output_type": "execute_result"
    }
   ],
   "source": [
    "21.0, 6.5"
   ]
  },
  {
   "cell_type": "markdown",
   "id": "a55824ea-653b-42a4-b633-d86dc65f8380",
   "metadata": {},
   "source": [
    "### 20. Using transform, what is the syntax to create a column which has a UnitPrice difference wrt its Category mean?\n",
    "a) df.groupby('Category')['UnitPrice'].transform(I ambda x: x - x.mean())\n",
    "\n",
    "b) df.groupby('Category') ('UnitPrice').transform(I ambda x: x - x.mean())\n",
    "\n",
    "c) df.groupby['Category']['UnitPrice'].transform(I ambda x: x - x.mean())\n",
    "\n",
    "d) df.groupby(['Category', 'UnitPrice']).transform(lambda x: x - x.mean())\n",
    "\n",
    "Explanation: Grouping the DataFrame 'df' by the 'Category' column and using the transform function to calculate the difference between each 'UnitPrice' and the mean 'UnitPrice' within its corresponding category. df['UnitPriceDifference'] = df.groupby('Category')['UnitPrice'].transform(lambda x: x - x.mean())"
   ]
  },
  {
   "cell_type": "markdown",
   "id": "0078ca63-015e-4e2d-a37b-debd674d266b",
   "metadata": {},
   "source": [
    "### 21. What is the correct syntax to get data wrt 'Monday'?\n",
    "a) df.groupby(df.Date.dt.day_name()).get_grou p('Monday')\n",
    "\n",
    "b) df.groupby(df.Date.dt.dayname()).get_group( 'Monday')\n",
    "\n",
    "c) df.groupby(df.Date.dt.dayofweek()).get_grou p('Monday')\n",
    "\n",
    "d) df.groupby(df.Date.dt.day_of_week()).get_gr oup('Monday')\n",
    "\n",
    "df.Date.dt.day_name(): This extracts the day name from the 'Date' column. groupby(df.Date.dt.day_name()): Groups the DataFrame by the day names. get_group('Monday'): Retrieves the data corresponding to the 'Monday' group. So, the correct syntax to get data for 'Monday' is option: a) df.groupby(df.Date.dt.day_name()).get_group('Monday')"
   ]
  },
  {
   "cell_type": "markdown",
   "id": "0d9b4612-8aa5-4d06-b335-eecca9246b26",
   "metadata": {},
   "source": [
    "### 22. Which of the following statements is/are True?\n",
    "a) apply() can be applied on rows\n",
    "\n",
    "b) Apply function can't be applied on rows\n",
    "\n",
    "c) Apply applies the function on the entire series at a time.\n",
    "\n",
    "d) Apply applies the function one cell at a time\n",
    "\n",
    "output a) apply() can be applied on rows\n",
    "\n",
    "c) apply() applies the function on the entire series at a time\n",
    "\n",
    "Explanation The apply() function in pandas can be applied to both rows and columns, and by default, it operates on entire series (columns). If you want to apply a function to each element in a series, you might want to use map() or applymap() for DataFrames."
   ]
  },
  {
   "cell_type": "markdown",
   "id": "f9fee238-254c-4d3c-a4f8-d254ab5a4eee",
   "metadata": {},
   "source": [
    "### 23. Which of the following statements is/are True?\n",
    "apply and map provide vectorized operations, but apply is more versatile and applicable to both DataFrames and Series, while map is specific to Series and is often used for value substitution based on a mapping."
   ]
  },
  {
   "cell_type": "code",
   "execution_count": 20,
   "id": "e0945663-67e3-4cd8-a786-906ebe8d3583",
   "metadata": {},
   "outputs": [
    {
     "ename": "SyntaxError",
     "evalue": "invalid syntax (1347847265.py, line 13)",
     "output_type": "error",
     "traceback": [
      "\u001b[1;36m  Cell \u001b[1;32mIn[20], line 13\u001b[1;36m\u001b[0m\n\u001b[1;33m    Date\tRegion\tSalesperson\u001b[0m\n\u001b[1;37m        \t^\u001b[0m\n\u001b[1;31mSyntaxError\u001b[0m\u001b[1;31m:\u001b[0m invalid syntax\n"
     ]
    }
   ],
   "source": [
    "data = {\n",
    "    'Date': ['2024-01-10', '2024-01-11', '2024-01-10','2024-01-12','2024-01-11','2024-01-12'],\n",
    "    'Region': ['North', 'South', 'East','West','North','East'],\n",
    "    'Salesperson': ['Ajay', 'Balu', 'Chirag','Ajay','Balu','Chiraj'],\n",
    "    'Product': ['Notebook', 'Pen', 'Notebook','Pen','Binder','Binder'],\n",
    "    'Quantity': [5, 10, 7,15,20,10],\n",
    "    'UnitPrice': [12, 3, 12,3,5,5]\n",
    "}\n",
    "\n",
    "df1= pd.DataFrame(data)\n",
    "\n",
    "df1\n",
    "Date\tRegion\tSalesperson"
   ]
  },
  {
   "cell_type": "markdown",
   "id": "dfa475a7-cc1a-494c-9a42-3044d78d5477",
   "metadata": {},
   "source": [
    "### 24. What is the syntax to create a pivot table with index as North and South and columns as Product where values are sum of Quantities Sold?\n",
    "a) df1[df1['Region].isin(['North', 'South']).pivot_table(index = 'Product', columns = 'Product', values = 'Quantity', agg = 'sum')\n",
    "\n",
    "b) df1 [df1['Region].isin(['North', 'South']).pivot_table(index = 'Product', columns = 'Product', values = 'Quantity', aggfunc = 'sum')\n",
    "\n",
    "c) df1[(df1['Region] == 'North') | (df1['Region']=='South')]).pivot_table(index = 'Product', columns = 'Product', values = 'Quantity', agg = 'sum')\n",
    "\n",
    "d) df1[(df1['Region] == 'North') | (df1['Region']=='South')]).pivot_table(index = 'Product', columns = Product, values = 'Quantity', aggfunc = 'sum')\n",
    "The correct syntax is option: b) df1[df1['Region'].isin(['North', 'South']).pivot_table(index='Product', columns='Product', values='Quantity', aggfunc='sum')\n",
    "\n",
    "Explanation:\n",
    "\n",
    "df1['Region'].isin(['North', 'South']): Filters rows where the Region is either 'North' or 'South'.\n",
    ".pivot_table(): Creates a pivot table from the filtered DataFrame.\n",
    "index='Product': Sets the 'Product' column as the index of the pivot table.\n",
    "columns='Product': Sets the 'Product' column as the columns of the pivot table.\n",
    "values='Quantity': Specifies that the values of the pivot table should be taken from the 'Quantity' column.\n",
    "aggfunc='sum': Specifies the aggregation function to be 'sum', meaning it calculates the sum of quantities sold."
   ]
  },
  {
   "cell_type": "markdown",
   "id": "fffea59b-2bb7-4436-ba3d-980cd76b3416",
   "metadata": {},
   "source": [
    "### 25. Which of the following statements is/are True?\n",
    "a) iloc method includes includes the last element when used for slicing\n",
    "\n",
    "b) loc method doesn't includes the last element when used for slicing\n",
    "\n",
    "c) We can use .loc method and pass default integer index of rows when slicing\n",
    "\n",
    "d) None of above\n",
    "\n",
    "output The correct statements are:\n",
    "\n",
    "a) iloc method includes the last element when used for slicing.\n",
    "\n",
    "b) loc method doesn't include the last element when used for slicing.\n",
    "\n",
    "Explanation:\n",
    "\n",
    "a) iloc is integer-location based indexing, and when used for slicing, it includes the last element.\n",
    "\n",
    "b) loc is label-based indexing, and when used for slicing, it includes the start label but excludes the end label.\n",
    "\n",
    "c) It is not accurate. You cannot use .loc with default integer indices; it requires the labels of the rows."
   ]
  },
  {
   "cell_type": "markdown",
   "id": "37538a51-93a3-4a37-903c-cb89bd072abb",
   "metadata": {},
   "source": [
    "### 26. Using a pivot table is it possible to create a multi-index dataframe, if so what is the syntax to have a multi index of Date and Region, with total Product sold as values?\n",
    "a) No we can't create a multi-index table using pivot table\n",
    "\n",
    "b) df1.pivot_table(index=['Date', 'Region'], columns = 'Product', values = 'Quantity', aggfunc = 'sum')\n",
    "\n",
    "c) df1.pivot_table(index=['Date', 'Region'], columns = 'Product', values = 'Quantity', agg = 'sum')\n",
    "\n",
    "d) None of these\n",
    "\n",
    "output b) df1.pivot_table(index=['Date', 'Region'], columns='Product', values='Quantity', aggfunc='sum')\n",
    "\n",
    "This syntax correctly specifies creating a pivot table with a multi-index of 'Date' and 'Region', where the values are the sum of 'Quantity' for each combination of 'Date' and 'Region' for each 'Product'."
   ]
  },
  {
   "cell_type": "markdown",
   "id": "5fab1b41-b89f-483f-8f14-da48df702a6f",
   "metadata": {},
   "source": [
    "### 27. What does the margins parameter in the pivot_table() function allow you to include in the pivot table?\n",
    "a) Additional margins and subtotals for rows and columns.\n",
    "\n",
    "b) A list of column names to exclude from the pivot table.\n",
    "\n",
    "c) The number of rows and columns to skip at the beginning of the pivot table.\n",
    "\n",
    "d) The maximum number of rows and columns to display in the pivot table\n",
    "\n",
    "output a) Additional margins and subtotals for rows and columns.\n",
    "\n",
    "Explanation The margins parameter in the pivot_table() function allows you to include additional margins and subtotals for rows and columns in the pivot table. Setting margins=True will include subtotals for each row and column, as well as an overall total. Setting margins='rows' will include subtotals for each row, and margins='columns' will include subtotals for each column. Setting margins=False (the default) will not include any additional margins or subtotals."
   ]
  },
  {
   "cell_type": "markdown",
   "id": "422b464a-7cb1-4172-94b3-c74b5215f09c",
   "metadata": {},
   "source": [
    "### 29. What kind of missing values handling technique is appropriate for df2?\n",
    "a) Imputing Price col with Price's mean\n",
    "\n",
    "b) Imputing Price col with Price's median\n",
    "\n",
    "c) Imputing Price col with individual fruits' Price's median\n",
    "\n",
    "d) Dropping missing values\n",
    "\n",
    "Explanation c) Imputing Price col with individual fruits' Price's median:\n",
    "\n",
    "The median is less sensitive to outliers compared to the mean, making it a robust choice, especially if the distribution of prices is skewed or has outliers. Imputing with the median provides a reasonable estimate of the central tendency of the data while being less influenced by extreme values."
   ]
  },
  {
   "cell_type": "markdown",
   "id": "7d8a2225-c56c-4568-a28c-03a81f6ab846",
   "metadata": {},
   "source": [
    "### 30. If we choose to impute missing values in Price col by with individual Fruits' Price's mean, how many missing values will be post imputation?\n",
    "a) 2\n",
    "\n",
    "b) 0\n",
    "\n",
    "c) 1\n",
    "\n",
    "d) 3"
   ]
  },
  {
   "cell_type": "code",
   "execution_count": null,
   "id": "1eda4c79-2cd9-4cca-a859-89ce6b95503d",
   "metadata": {},
   "outputs": [],
   "source": [
    "1"
   ]
  },
  {
   "cell_type": "markdown",
   "id": "5031e714-22af-47d1-bcea-34c2e9dd830c",
   "metadata": {},
   "source": [
    "### 31. If a = pd.Series([np.nan, 1, 2, пр.п np.nan, np.nan, np.nan, 4, 5, 7])\n",
    "What will be the output of a.interpolate()\n",
    "\n",
    "a) (nan, 1.0, 2.0, 2.3, 2.7, 3.1, 3.5, 4.0, 5.0, 7.01\n",
    "\n",
    "b) (nan, 1.0, 2.0, 2.5, 2.9, 3.3, 3.8, 4.0, 5.0. 7.01\n",
    "\n",
    "c) (nan, 1.0, 2.0, 2.4, 2.8, 32, 36, 4.0, 5.0. 7.01\n",
    "\n",
    "d) Error"
   ]
  },
  {
   "cell_type": "code",
   "execution_count": 22,
   "id": "628c831c-823d-4278-9425-a4d765ec526e",
   "metadata": {},
   "outputs": [
    {
     "ename": "NameError",
     "evalue": "name 'pd' is not defined",
     "output_type": "error",
     "traceback": [
      "\u001b[1;31m---------------------------------------------------------------------------\u001b[0m",
      "\u001b[1;31mNameError\u001b[0m                                 Traceback (most recent call last)",
      "Cell \u001b[1;32mIn[22], line 1\u001b[0m\n\u001b[1;32m----> 1\u001b[0m a \u001b[38;5;241m=\u001b[39m pd\u001b[38;5;241m.\u001b[39mSeries([np\u001b[38;5;241m.\u001b[39mnan, \u001b[38;5;241m1\u001b[39m, \u001b[38;5;241m2\u001b[39m, пр\u001b[38;5;241m.\u001b[39mпan, np\u001b[38;5;241m.\u001b[39mnan, np\u001b[38;5;241m.\u001b[39mnan, np\u001b[38;5;241m.\u001b[39mnan, \u001b[38;5;241m4\u001b[39m, \u001b[38;5;241m5\u001b[39m, \u001b[38;5;241m7\u001b[39m])\n\u001b[0;32m      2\u001b[0m a\n",
      "\u001b[1;31mNameError\u001b[0m: name 'pd' is not defined"
     ]
    }
   ],
   "source": [
    "a = pd.Series([np.nan, 1, 2, пр.пan, np.nan, np.nan, np.nan, 4, 5, 7])\n",
    "a"
   ]
  },
  {
   "cell_type": "markdown",
   "id": "f8cee847-deca-4f72-bbab-468cb10962bf",
   "metadata": {},
   "source": [
    "### 32. What is the use of the normalization parameter in the crosstab method of pandas?\n",
    "a) It used to normalize values by dividing them by the total count\n",
    "\n",
    "b) To add margins\n",
    "\n",
    "c) There is no parameter called as normalize in crosstab\n",
    "\n",
    "d) Both a & c\n",
    "\n",
    "Answer a) It is used to normalize values by dividing them by the total count\n",
    "\n",
    "When normalize is set to True, the cross-tabulation table is a frequency table expressed as fractions, i.e., the cell value shows the fraction of the row/column/total count, depending on the value of normalize. This can be useful in understanding the proportion of occurrences in the data, rather than the absolute count. Please note that this parameter does not add margins; there is a separate parameter called margins in crosstab for that purpose."
   ]
  }
 ],
 "metadata": {
  "kernelspec": {
   "display_name": "Python 3 (ipykernel)",
   "language": "python",
   "name": "python3"
  },
  "language_info": {
   "codemirror_mode": {
    "name": "ipython",
    "version": 3
   },
   "file_extension": ".py",
   "mimetype": "text/x-python",
   "name": "python",
   "nbconvert_exporter": "python",
   "pygments_lexer": "ipython3",
   "version": "3.11.5"
  }
 },
 "nbformat": 4,
 "nbformat_minor": 5
}
