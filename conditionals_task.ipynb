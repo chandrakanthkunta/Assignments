{
 "cells": [
  {
   "cell_type": "markdown",
   "id": "0f1eb69b",
   "metadata": {},
   "source": [
    "# Task 1: "
   ]
  },
  {
   "cell_type": "markdown",
   "id": "1b36e161",
   "metadata": {},
   "source": [
    "Write a Python program that asks the user for their age and prints \"You are an adult\" if the age is 18 or older, otherwise prints \"You are a minor'.\n"
   ]
  },
  {
   "cell_type": "code",
   "execution_count": 1,
   "id": "a3a63c05",
   "metadata": {},
   "outputs": [
    {
     "name": "stdout",
     "output_type": "stream",
     "text": [
      "enter your age1\n",
      "you are minor\n"
     ]
    }
   ],
   "source": [
    "user = int(input(\"enter your age\")) # taking age from user\n",
    "\n",
    "if user >= 18: # condition of age should be greater than or equals to 18\n",
    "    print(\"you are an adult\") # if age is greater than 18 it print this statement\n",
    "else:\n",
    "    print(\"you are minor\") # if age is below 18it prints this statement"
   ]
  },
  {
   "cell_type": "markdown",
   "id": "ac270e0f",
   "metadata": {},
   "source": [
    "# Task 2:"
   ]
  },
  {
   "cell_type": "markdown",
   "id": "776d96f8",
   "metadata": {},
   "source": [
    "Write a program that takes a numerical grade (out of 100) as input and prints the corresponding letter grade according to the following scale:\n",
    "\n",
    "- 90-100: A\n",
    "- 80-89: B\n",
    "- 70-79: C\n",
    "- 60-69: D\n",
    "- Below 60: F\n"
   ]
  },
  {
   "cell_type": "code",
   "execution_count": 2,
   "id": "3ca9f2e6",
   "metadata": {},
   "outputs": [
    {
     "name": "stdout",
     "output_type": "stream",
     "text": [
      "enter your grade: 66\n",
      "D\n"
     ]
    }
   ],
   "source": [
    "grade = int(input(\"enter your grade: \"))\n",
    "\n",
    "if grade > 90 and grade < 100: # taking condition to print \"A\" if marks between 90-100\n",
    "    print(\"A\")\n",
    "elif grade > 80 and grade < 89:# taking condition to print \"B\" if marks between 80-89\n",
    "    print(\"B\")\n",
    "elif grade > 70 and grade < 79:# taking condition to print \"C\" if marks between 70-79\n",
    "    print(\"C\")\n",
    "elif grade > 60 and grade < 69:# taking condition to print \"D\" if marks between 60-69\n",
    "    print(\"D\")\n",
    "elif grade < 60: # taking condition to print \"Fail\" if marks below 60\n",
    "    print(\"Fail\")\n"
   ]
  },
  {
   "cell_type": "markdown",
   "id": "b57debaf",
   "metadata": {},
   "source": [
    "# Task : 3"
   ]
  },
  {
   "cell_type": "markdown",
   "id": "cfc226fc",
   "metadata": {},
   "source": [
    "Write a program that calculates the Body Mass Index (BMI) of a person. The user should input their weight in kilograms and height in meters. The program should then print whether the person is underweight, normal weight, overweight, or obese\n"
   ]
  },
  {
   "cell_type": "code",
   "execution_count": 3,
   "id": "8994b230",
   "metadata": {},
   "outputs": [
    {
     "name": "stdout",
     "output_type": "stream",
     "text": [
      "enter height meter: 17.3\n",
      "enter mass in kg: 35\n",
      "under weight\n"
     ]
    }
   ],
   "source": [
    "height = float(input(\"enter height meter: \"))\n",
    "mass = int(input(\"enter mass in kg: \"))\n",
    "\n",
    "man = mass // height ** 2\n",
    "\n",
    "if man >= 18 and man <= 23:# if a man between 18-23 he is normal\n",
    "    print(\"normal weight\")\n",
    "\n",
    "elif man >= 24 and man <= 29:# if a man between 24-29 he is over weight\n",
    "    print(\"over weight\")\n",
    "    \n",
    "elif man >= 30:\n",
    "    print(\"obese\")# if a man over 30 he is obese\n",
    "elif man < 18:\n",
    "    print(\"under weight\")# if a man below 18 he is underweight\n",
    "    \n",
    "    \n"
   ]
  },
  {
   "cell_type": "markdown",
   "id": "e478e014",
   "metadata": {},
   "source": [
    "# Task: 4"
   ]
  },
  {
   "cell_type": "markdown",
   "id": "9416cd8b",
   "metadata": {},
   "source": [
    "Write a program that asks the user for three numbers and prints the maximum of the three."
   ]
  },
  {
   "cell_type": "code",
   "execution_count": 4,
   "id": "99b653a0",
   "metadata": {},
   "outputs": [
    {
     "name": "stdout",
     "output_type": "stream",
     "text": [
      "enter any number1: 1\n",
      "enter any number2: 2\n",
      "enter any number3: 3\n",
      "3 is greater\n"
     ]
    }
   ],
   "source": [
    "num1 = int(input(\"enter any number1: \"))\n",
    "num2 = int(input(\"enter any number2: \"))\n",
    "num3 = int(input(\"enter any number3: \"))\n",
    "\n",
    "if num1 > num2:\n",
    "    print(num1, \"is greater\")#given condition that if num1 is greater than num2 to print num1\n",
    "elif num2 > num3:\n",
    "    print(num2, \"is greater\")#given condition that if num2 is greater than num3 to print num2\n",
    "elif num3 > num1:\n",
    "    print(num3, \"is greater\")#given condition that if num3 is greater than num1 to print num3"
   ]
  },
  {
   "cell_type": "markdown",
   "id": "7f9590d3",
   "metadata": {},
   "source": [
    "# Task:5"
   ]
  },
  {
   "cell_type": "markdown",
   "id": "62e664c0",
   "metadata": {},
   "source": [
    "Write a program that asks the user for a temperature (in Celsius) and prints \"It's freezing\" if the temperature is below 0, \"It's cool\" if it's between 0 and 10, \"It's warm\" if it's between 10 and 20, and \"It's hot\" if it's above 20\n"
   ]
  },
  {
   "cell_type": "code",
   "execution_count": 5,
   "id": "0bd34977",
   "metadata": {},
   "outputs": [
    {
     "name": "stdout",
     "output_type": "stream",
     "text": [
      "enter temperature: 12\n",
      "warm\n"
     ]
    }
   ],
   "source": [
    "temp = int(input(\"enter temperature: \"))\n",
    "\n",
    "if temp < 0:# given a condition that if temperature is less than 0 to print freezing\n",
    "    print(\"frreezing\")\n",
    "elif temp >= 0 and temp < 10:#given a condition that if temperature is between  0 and 1, print cool\n",
    "    print(\"cool\")\n",
    "elif temp > 10 and temp <20:#given a condition that if temperature is between 10 and 20, print warm\n",
    "    print(\"warm\")\n",
    "elif temp >= 20:\n",
    "    print(\"it's hot\")#given a condition that if temperature is greater than 20 to print it's hot"
   ]
  },
  {
   "cell_type": "markdown",
   "id": "691b61fe",
   "metadata": {},
   "source": [
    "# Task:6"
   ]
  },
  {
   "cell_type": "markdown",
   "id": "b25fe845",
   "metadata": {},
   "source": [
    "Write a program that asks the user for a number (1-7) and prints the corresponding day of the week."
   ]
  },
  {
   "cell_type": "code",
   "execution_count": 6,
   "id": "27858d58",
   "metadata": {},
   "outputs": [
    {
     "name": "stdout",
     "output_type": "stream",
     "text": [
      "enter number between 1 to 7: 1\n",
      "sunday\n"
     ]
    }
   ],
   "source": [
    "number = int(input(\"enter number between 1 to 7: \"))\n",
    "\n",
    "if number == 1:# condition is, if given number is equals to 1, print week sunday\n",
    "    print(\"sunday\")\n",
    "elif number == 2:# condition is, if given number is equals to 2, print week monday\n",
    "    print(\"monday\")\n",
    "elif number == 3:# condition is, if given number is equals to 3, print week tuesday\n",
    "    print(\"tuesday\")\n",
    "elif number == 4:# condition is, if given number is equals to 4, print week wednesday\n",
    "    print(\"wednesday\")\n",
    "elif number == 5:# condition is, if given number is equals to 5, print week thursday\n",
    "    print(\"thursday\")\n",
    "elif number == 6:# condition is, if given number is equals to 6, print week friday\n",
    "    print(\"friday\")\n",
    "elif number == 7:# condition is, if given number is equals to 7, print week saturday\n",
    "    print(\"saturday\")\n"
   ]
  },
  {
   "cell_type": "markdown",
   "id": "aec8d054",
   "metadata": {},
   "source": [
    "# Task:7"
   ]
  },
  {
   "cell_type": "markdown",
   "id": "68d49c7c",
   "metadata": {},
   "source": [
    "Write a program that asks the user for a number and prints \"In range\" if the number is between 10 and 20 (inclusive), and \"Out of range\" otherwise.\n"
   ]
  },
  {
   "cell_type": "code",
   "execution_count": 13,
   "id": "4eb39c2e",
   "metadata": {},
   "outputs": [
    {
     "name": "stdout",
     "output_type": "stream",
     "text": [
      "enter a range 12\n",
      "inclusive\n"
     ]
    }
   ],
   "source": [
    "number = int(input(\"enter a range \"))\n",
    "\n",
    "if number >= 10 and number <= 20:#condition if number between 10-20 print inclusive otherwise out of range\n",
    "    print(\"inclusive\")\n",
    "else:\n",
    "    print(\"out of range\")\n"
   ]
  },
  {
   "cell_type": "markdown",
   "id": "5be8eeaa",
   "metadata": {},
   "source": [
    "# Task: 8"
   ]
  },
  {
   "cell_type": "markdown",
   "id": "b9d1751c",
   "metadata": {},
   "source": [
    "Write a program that asks the user for an integer and prints whether it's even or odd.\n"
   ]
  },
  {
   "cell_type": "code",
   "execution_count": 16,
   "id": "90763353",
   "metadata": {},
   "outputs": [
    {
     "name": "stdout",
     "output_type": "stream",
     "text": [
      "enter a number3\n",
      "odd\n"
     ]
    }
   ],
   "source": [
    "user = int(input(\"enter a number\"))\n",
    "\n",
    "if user%2 ==0:#even is when a number divisible by 2 is even if it not it's odd\n",
    "    print(\"even\")\n",
    "else:\n",
    "    print(\"odd\")\n"
   ]
  },
  {
   "cell_type": "markdown",
   "id": "5fe409c8",
   "metadata": {},
   "source": [
    "# Task: 9"
   ]
  },
  {
   "cell_type": "markdown",
   "id": "179bd4b2",
   "metadata": {},
   "source": [
    " Write a Python program to add 'ing' at the end of a given string (string length should be equal to or more than 3). If the given string already ends with 'ing' then add 'ly' instead.If the string length of the given string is less than 3, leave it unchanged\n"
   ]
  },
  {
   "cell_type": "code",
   "execution_count": 35,
   "id": "3801767c",
   "metadata": {},
   "outputs": [
    {
     "name": "stdout",
     "output_type": "stream",
     "text": [
      "enter a 3 letter string: ing\n",
      "inging\n",
      "ingly\n"
     ]
    }
   ],
   "source": [
    "string = input(\"enter a 3 letter string: \")\n",
    "\n",
    "if len(string) >= 3:\n",
    "    print(string+\"ing\")\n",
    "if string.endswith(\"ing\"):\n",
    "    print(string+\"ly\")"
   ]
  },
  {
   "cell_type": "markdown",
   "id": "c7c2af89",
   "metadata": {},
   "source": [
    "# Task: 10"
   ]
  },
  {
   "cell_type": "markdown",
   "id": "f4d204af",
   "metadata": {},
   "source": [
    "Create rock-paper-scissors by using the if condition."
   ]
  },
  {
   "cell_type": "code",
   "execution_count": 39,
   "id": "d3ba8ba5",
   "metadata": {},
   "outputs": [
    {
     "name": "stdout",
     "output_type": "stream",
     "text": [
      "p1_choose: rock\n",
      "p2_choosepaper\n"
     ]
    },
    {
     "ename": "AttributeError",
     "evalue": "'str' object has no attribute 'choice'",
     "output_type": "error",
     "traceback": [
      "\u001b[1;31m---------------------------------------------------------------------------\u001b[0m",
      "\u001b[1;31mAttributeError\u001b[0m                            Traceback (most recent call last)",
      "\u001b[1;32m~\\AppData\\Local\\Temp/ipykernel_424/449388159.py\u001b[0m in \u001b[0;36m<module>\u001b[1;34m\u001b[0m\n\u001b[0;32m      4\u001b[0m \u001b[0mchoice\u001b[0m \u001b[1;33m=\u001b[0m \u001b[1;33m[\u001b[0m\u001b[1;34m\"rock\"\u001b[0m\u001b[1;33m,\u001b[0m \u001b[1;34m\"paper\"\u001b[0m\u001b[1;33m,\u001b[0m \u001b[1;34m\"scissor\"\u001b[0m\u001b[1;33m]\u001b[0m\u001b[1;33m\u001b[0m\u001b[1;33m\u001b[0m\u001b[0m\n\u001b[0;32m      5\u001b[0m \u001b[1;33m\u001b[0m\u001b[0m\n\u001b[1;32m----> 6\u001b[1;33m \u001b[1;32mif\u001b[0m \u001b[0mp1\u001b[0m\u001b[1;33m.\u001b[0m\u001b[0mchoice\u001b[0m\u001b[1;33m[\u001b[0m\u001b[1;36m0\u001b[0m\u001b[1;33m]\u001b[0m \u001b[1;32mand\u001b[0m \u001b[0mp2\u001b[0m\u001b[1;33m.\u001b[0m\u001b[0mchoice\u001b[0m\u001b[1;33m[\u001b[0m\u001b[1;36m1\u001b[0m\u001b[1;33m]\u001b[0m\u001b[1;33m:\u001b[0m\u001b[1;33m\u001b[0m\u001b[1;33m\u001b[0m\u001b[0m\n\u001b[0m\u001b[0;32m      7\u001b[0m     \u001b[0mprint\u001b[0m\u001b[1;33m(\u001b[0m\u001b[1;34m\"winner is paper\"\u001b[0m\u001b[1;33m)\u001b[0m\u001b[1;33m\u001b[0m\u001b[1;33m\u001b[0m\u001b[0m\n\u001b[0;32m      8\u001b[0m \u001b[1;32melif\u001b[0m \u001b[0mp1\u001b[0m\u001b[1;33m.\u001b[0m\u001b[0mchoice\u001b[0m\u001b[1;33m[\u001b[0m\u001b[1;36m1\u001b[0m\u001b[1;33m]\u001b[0m \u001b[1;32mand\u001b[0m \u001b[0mp2\u001b[0m\u001b[1;33m.\u001b[0m\u001b[0mchoice\u001b[0m\u001b[1;33m[\u001b[0m\u001b[1;36m2\u001b[0m\u001b[1;33m]\u001b[0m\u001b[1;33m:\u001b[0m\u001b[1;33m\u001b[0m\u001b[1;33m\u001b[0m\u001b[0m\n",
      "\u001b[1;31mAttributeError\u001b[0m: 'str' object has no attribute 'choice'"
     ]
    }
   ],
   "source": [
    "p1 = input(\"p1_choose: \")\n",
    "p2 = input(\"p2_choose\")\n",
    "\n",
    "choice = [\"rock\", \"paper\", \"scissor\"]\n",
    "\n",
    "if p1.choice[0] and p2.choice[1]:\n",
    "    print(\"winner is paper\")\n",
    "elif p1.choice[1] and p2.choice[2]:\n",
    "    print(\"winner is scissor\")\n",
    "elif p1.choice[2] and p2.choice[0]:\n",
    "    print(\"winner is rock\")\n",
    "\n"
   ]
  },
  {
   "cell_type": "code",
   "execution_count": null,
   "id": "fcbbd2b6",
   "metadata": {},
   "outputs": [],
   "source": []
  }
 ],
 "metadata": {
  "kernelspec": {
   "display_name": "Python 3 (ipykernel)",
   "language": "python",
   "name": "python3"
  },
  "language_info": {
   "codemirror_mode": {
    "name": "ipython",
    "version": 3
   },
   "file_extension": ".py",
   "mimetype": "text/x-python",
   "name": "python",
   "nbconvert_exporter": "python",
   "pygments_lexer": "ipython3",
   "version": "3.9.7"
  }
 },
 "nbformat": 4,
 "nbformat_minor": 5
}
