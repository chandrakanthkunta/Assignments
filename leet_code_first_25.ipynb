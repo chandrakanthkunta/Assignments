{
  "nbformat": 4,
  "nbformat_minor": 0,
  "metadata": {
    "colab": {
      "provenance": []
    },
    "kernelspec": {
      "name": "python3",
      "display_name": "Python 3"
    },
    "language_info": {
      "name": "python"
    }
  },
  "cells": [
    {
      "cell_type": "markdown",
      "source": [
        "# Leet_code first 25 tasks:"
      ],
      "metadata": {
        "id": "8XgEqVuvv8PC"
      }
    },
    {
      "cell_type": "markdown",
      "source": [
        "- Rename Columns\n",
        "- Modify Columns\n",
        "- Drop Duplicate Rows\n",
        "- Create a New Column\n",
        "- Display the First Three Rows\n",
        "\n",
        "\n"
      ],
      "metadata": {
        "id": "R2KPAZv6QiPd"
      }
    },
    {
      "cell_type": "code",
      "source": [
        "#1. Rename the  columns"
      ],
      "metadata": {
        "id": "QQrmTVbNyxaz"
      },
      "execution_count": 40,
      "outputs": []
    },
    {
      "cell_type": "code",
      "source": [
        "import pandas as pd\n",
        "\n",
        "def renameColumns(students: pd.DataFrame) -> pd.DataFrame:# renaming the  columns\n",
        "    students = students.rename(\n",
        "        columns={\n",
        "            \"id\": \"student_id\",\n",
        "            \"first\": \"first_name\",\n",
        "            \"last\": \"last_name\",\n",
        "            \"age\": \"age_in_years\",\n",
        "        }\n",
        "    )\n",
        "    return students\n",
        "\n",
        "# Example DataFrame\n",
        "data = {\n",
        "    \"id\": [1, 2, 3],\n",
        "    \"first\": [\"luffy\", \"zoro\", \"sanji\"],\n",
        "    \"last\": [\"monkey\", \"rorona\", \"vinsmoke\"],\n",
        "    \"age\": [25, 30, 22],\n",
        "}\n",
        "\n",
        "students_df = pd.DataFrame(data)\n",
        "\n",
        "# Call the renameColumns function\n",
        "students_df = renameColumns(students_df)\n",
        "\n",
        "# Display the modified DataFrame\n",
        "print(students_df)\n"
      ],
      "metadata": {
        "id": "7BU6p2HU0lk9",
        "colab": {
          "base_uri": "https://localhost:8080/"
        },
        "outputId": "34683d76-a43c-4799-b72b-d79e8ad8a8d2"
      },
      "execution_count": 35,
      "outputs": [
        {
          "output_type": "stream",
          "name": "stdout",
          "text": [
            "   student_id first_name last_name  age_in_years\n",
            "0           1      luffy    monkey            25\n",
            "1           2       zoro    rorona            30\n",
            "2           3      sanji  vinsmoke            22\n"
          ]
        }
      ]
    },
    {
      "cell_type": "markdown",
      "source": [
        "#2. A company intends to give its employees a pay rise.\n",
        "\n",
        "Write a solution to modify the salary column by multiplying each salary by 2.\n",
        "\n",
        "The result format is in the following example."
      ],
      "metadata": {
        "id": "DBCM-y8_nrIt"
      }
    },
    {
      "cell_type": "code",
      "source": [
        "import pandas as pd\n",
        "\n",
        "# Example DataFrame\n",
        "data = {\n",
        "    \"employee_id\": [1, 2, 3],\n",
        "    \"name\": [\"luffy\", \"zoro\", \"sanji\"],\n",
        "    \"salary\": [50000, 60000, 70000],\n",
        "}\n",
        "\n",
        "employees_df = pd.DataFrame(data)\n",
        "\n",
        "# Call the modifySalaryColumn function\n",
        "employees_df = modifySalaryColumn(employees_df)\n",
        "\n",
        "# Display the modified DataFrame\n",
        "print(employees_df)\n"
      ],
      "metadata": {
        "colab": {
          "base_uri": "https://localhost:8080/"
        },
        "id": "XbQodl1qn0Ng",
        "outputId": "dc5ef708-7a2b-4529-edc2-d3ba73a36bc2"
      },
      "execution_count": 36,
      "outputs": [
        {
          "output_type": "stream",
          "name": "stdout",
          "text": [
            "   employee_id   name  salary\n",
            "0            1  luffy  100000\n",
            "1            2   zoro  120000\n",
            "2            3  sanji  140000\n"
          ]
        }
      ]
    },
    {
      "cell_type": "markdown",
      "source": [
        "#3. Write a solution to remove these duplicate rows and keep only the first occurrence.\n",
        "\n",
        "The result format is in the following example."
      ],
      "metadata": {
        "id": "wz_E9YwpobE6"
      }
    },
    {
      "cell_type": "code",
      "source": [
        "import pandas as pd\n",
        "\n",
        "def dropDuplicateEmails(customers: pd.DataFrame) -> pd.DataFrame:\n",
        "    return customers.drop_duplicates(subset=['email'])\n",
        "\n",
        "# Example usage:\n",
        "data = {\n",
        "    'customer_id': [1, 2, 3, 4, 5, 6],\n",
        "    'name': ['luffy', 'zoro', 'nami', 'sanji', 'brook', 'chopper'],\n",
        "    'email': ['luffy@gmail.com', 'zoro@gmail.com', 'nami@gmail.com', 'sanji@gmail.com', 'brook@gmail.com', 'chopper@gmail.com']\n",
        "}\n",
        "\n",
        "customers_df = pd.DataFrame(data)\n",
        "\n",
        "# Call the dropDuplicateEmails function\n",
        "unique_customers_df = dropDuplicateEmails(customers_df)\n",
        "\n",
        "# Display the modified DataFrame\n",
        "print(unique_customers_df)\n"
      ],
      "metadata": {
        "colab": {
          "base_uri": "https://localhost:8080/"
        },
        "id": "TBZHK5Gasz_I",
        "outputId": "2a46f950-5ff9-47c0-894a-7073953712c6"
      },
      "execution_count": 37,
      "outputs": [
        {
          "output_type": "stream",
          "name": "stdout",
          "text": [
            "   customer_id     name              email\n",
            "0            1    luffy    luffy@gmail.com\n",
            "1            2     zoro     zoro@gmail.com\n",
            "2            3     nami     nami@gmail.com\n",
            "3            4    sanji    sanji@gmail.com\n",
            "4            5    brook    brook@gmail.com\n",
            "5            6  chopper  chopper@gmail.com\n"
          ]
        }
      ]
    },
    {
      "cell_type": "markdown",
      "source": [
        "#4.create a new column\n",
        " A company plans to provide its employees with a bonus.\n",
        "\n",
        "Write a solution to create a new column name bonus that contains the doubled values of the salary column.\n",
        "\n",
        "The result format is in the following example."
      ],
      "metadata": {
        "id": "6TjqI6a2tDhK"
      }
    },
    {
      "cell_type": "code",
      "source": [
        "import pandas as pd\n",
        "\n",
        "def createBonusColumn(employees: pd.DataFrame) -> pd.DataFrame:\n",
        "    employees['bonus'] = employees['salary'] * 2\n",
        "    return employees\n",
        "\n",
        "# Example DataFrame\n",
        "data = {\n",
        "    \"employee_id\": [1, 2, 3],\n",
        "    \"name\": [\"luffy\", \"zoro\", \"sanji\"],\n",
        "    \"salary\": [50000, 60000, 70000],\n",
        "}\n",
        "\n",
        "employees_df = pd.DataFrame(data)\n",
        "\n",
        "# Call the createBonusColumn function\n",
        "employees_df = createBonusColumn(employees_df)\n",
        "\n",
        "# Display the modified DataFrame\n",
        "print(employees_df)\n"
      ],
      "metadata": {
        "colab": {
          "base_uri": "https://localhost:8080/"
        },
        "id": "Tsf3iam0tUaF",
        "outputId": "ca570cb7-8ff0-4921-a042-7298a7b4856c"
      },
      "execution_count": 38,
      "outputs": [
        {
          "output_type": "stream",
          "name": "stdout",
          "text": [
            "   employee_id   name  salary   bonus\n",
            "0            1  luffy   50000  100000\n",
            "1            2   zoro   60000  120000\n",
            "2            3  sanji   70000  140000\n"
          ]
        }
      ]
    },
    {
      "cell_type": "markdown",
      "source": [
        "#5.Write a solution to display the first 3 rows of this DataFrame."
      ],
      "metadata": {
        "id": "ZY1rFaFAudhn"
      }
    },
    {
      "cell_type": "code",
      "source": [
        "import pandas as pd\n",
        "\n",
        "def selectFirstRows(employees: pd.DataFrame) -> pd.DataFrame:\n",
        "    return employees.head(3)\n",
        "\n",
        "# Example DataFrame\n",
        "data = {\n",
        "    \"employee_id\": [1, 2, 3, 4, 5],\n",
        "    \"name\": [\"luffy\", \"Zoro\", \"sanji\", \"nami\", \"chopper\"],\n",
        "    \"salary\": [50000, 60000, 70000, 80000, 90000],\n",
        "}\n",
        "\n",
        "employees_df.head(3)#display first 3 rows\n"
      ],
      "metadata": {
        "colab": {
          "base_uri": "https://localhost:8080/",
          "height": 143
        },
        "id": "LZ9gfKfCulf8",
        "outputId": "5af2500b-d605-404d-e160-20e6fda4d563"
      },
      "execution_count": 39,
      "outputs": [
        {
          "output_type": "execute_result",
          "data": {
            "text/plain": [
              "   employee_id   name  salary   bonus\n",
              "0            1  luffy   50000  100000\n",
              "1            2   zoro   60000  120000\n",
              "2            3  sanji   70000  140000"
            ],
            "text/html": [
              "\n",
              "  <div id=\"df-53973969-8a84-4daa-9d29-154ae7746b94\" class=\"colab-df-container\">\n",
              "    <div>\n",
              "<style scoped>\n",
              "    .dataframe tbody tr th:only-of-type {\n",
              "        vertical-align: middle;\n",
              "    }\n",
              "\n",
              "    .dataframe tbody tr th {\n",
              "        vertical-align: top;\n",
              "    }\n",
              "\n",
              "    .dataframe thead th {\n",
              "        text-align: right;\n",
              "    }\n",
              "</style>\n",
              "<table border=\"1\" class=\"dataframe\">\n",
              "  <thead>\n",
              "    <tr style=\"text-align: right;\">\n",
              "      <th></th>\n",
              "      <th>employee_id</th>\n",
              "      <th>name</th>\n",
              "      <th>salary</th>\n",
              "      <th>bonus</th>\n",
              "    </tr>\n",
              "  </thead>\n",
              "  <tbody>\n",
              "    <tr>\n",
              "      <th>0</th>\n",
              "      <td>1</td>\n",
              "      <td>luffy</td>\n",
              "      <td>50000</td>\n",
              "      <td>100000</td>\n",
              "    </tr>\n",
              "    <tr>\n",
              "      <th>1</th>\n",
              "      <td>2</td>\n",
              "      <td>zoro</td>\n",
              "      <td>60000</td>\n",
              "      <td>120000</td>\n",
              "    </tr>\n",
              "    <tr>\n",
              "      <th>2</th>\n",
              "      <td>3</td>\n",
              "      <td>sanji</td>\n",
              "      <td>70000</td>\n",
              "      <td>140000</td>\n",
              "    </tr>\n",
              "  </tbody>\n",
              "</table>\n",
              "</div>\n",
              "    <div class=\"colab-df-buttons\">\n",
              "\n",
              "  <div class=\"colab-df-container\">\n",
              "    <button class=\"colab-df-convert\" onclick=\"convertToInteractive('df-53973969-8a84-4daa-9d29-154ae7746b94')\"\n",
              "            title=\"Convert this dataframe to an interactive table.\"\n",
              "            style=\"display:none;\">\n",
              "\n",
              "  <svg xmlns=\"http://www.w3.org/2000/svg\" height=\"24px\" viewBox=\"0 -960 960 960\">\n",
              "    <path d=\"M120-120v-720h720v720H120Zm60-500h600v-160H180v160Zm220 220h160v-160H400v160Zm0 220h160v-160H400v160ZM180-400h160v-160H180v160Zm440 0h160v-160H620v160ZM180-180h160v-160H180v160Zm440 0h160v-160H620v160Z\"/>\n",
              "  </svg>\n",
              "    </button>\n",
              "\n",
              "  <style>\n",
              "    .colab-df-container {\n",
              "      display:flex;\n",
              "      gap: 12px;\n",
              "    }\n",
              "\n",
              "    .colab-df-convert {\n",
              "      background-color: #E8F0FE;\n",
              "      border: none;\n",
              "      border-radius: 50%;\n",
              "      cursor: pointer;\n",
              "      display: none;\n",
              "      fill: #1967D2;\n",
              "      height: 32px;\n",
              "      padding: 0 0 0 0;\n",
              "      width: 32px;\n",
              "    }\n",
              "\n",
              "    .colab-df-convert:hover {\n",
              "      background-color: #E2EBFA;\n",
              "      box-shadow: 0px 1px 2px rgba(60, 64, 67, 0.3), 0px 1px 3px 1px rgba(60, 64, 67, 0.15);\n",
              "      fill: #174EA6;\n",
              "    }\n",
              "\n",
              "    .colab-df-buttons div {\n",
              "      margin-bottom: 4px;\n",
              "    }\n",
              "\n",
              "    [theme=dark] .colab-df-convert {\n",
              "      background-color: #3B4455;\n",
              "      fill: #D2E3FC;\n",
              "    }\n",
              "\n",
              "    [theme=dark] .colab-df-convert:hover {\n",
              "      background-color: #434B5C;\n",
              "      box-shadow: 0px 1px 3px 1px rgba(0, 0, 0, 0.15);\n",
              "      filter: drop-shadow(0px 1px 2px rgba(0, 0, 0, 0.3));\n",
              "      fill: #FFFFFF;\n",
              "    }\n",
              "  </style>\n",
              "\n",
              "    <script>\n",
              "      const buttonEl =\n",
              "        document.querySelector('#df-53973969-8a84-4daa-9d29-154ae7746b94 button.colab-df-convert');\n",
              "      buttonEl.style.display =\n",
              "        google.colab.kernel.accessAllowed ? 'block' : 'none';\n",
              "\n",
              "      async function convertToInteractive(key) {\n",
              "        const element = document.querySelector('#df-53973969-8a84-4daa-9d29-154ae7746b94');\n",
              "        const dataTable =\n",
              "          await google.colab.kernel.invokeFunction('convertToInteractive',\n",
              "                                                    [key], {});\n",
              "        if (!dataTable) return;\n",
              "\n",
              "        const docLinkHtml = 'Like what you see? Visit the ' +\n",
              "          '<a target=\"_blank\" href=https://colab.research.google.com/notebooks/data_table.ipynb>data table notebook</a>'\n",
              "          + ' to learn more about interactive tables.';\n",
              "        element.innerHTML = '';\n",
              "        dataTable['output_type'] = 'display_data';\n",
              "        await google.colab.output.renderOutput(dataTable, element);\n",
              "        const docLink = document.createElement('div');\n",
              "        docLink.innerHTML = docLinkHtml;\n",
              "        element.appendChild(docLink);\n",
              "      }\n",
              "    </script>\n",
              "  </div>\n",
              "\n",
              "\n",
              "<div id=\"df-90a4a461-47c0-4027-b053-8ea5b9fc0f27\">\n",
              "  <button class=\"colab-df-quickchart\" onclick=\"quickchart('df-90a4a461-47c0-4027-b053-8ea5b9fc0f27')\"\n",
              "            title=\"Suggest charts\"\n",
              "            style=\"display:none;\">\n",
              "\n",
              "<svg xmlns=\"http://www.w3.org/2000/svg\" height=\"24px\"viewBox=\"0 0 24 24\"\n",
              "     width=\"24px\">\n",
              "    <g>\n",
              "        <path d=\"M19 3H5c-1.1 0-2 .9-2 2v14c0 1.1.9 2 2 2h14c1.1 0 2-.9 2-2V5c0-1.1-.9-2-2-2zM9 17H7v-7h2v7zm4 0h-2V7h2v10zm4 0h-2v-4h2v4z\"/>\n",
              "    </g>\n",
              "</svg>\n",
              "  </button>\n",
              "\n",
              "<style>\n",
              "  .colab-df-quickchart {\n",
              "      --bg-color: #E8F0FE;\n",
              "      --fill-color: #1967D2;\n",
              "      --hover-bg-color: #E2EBFA;\n",
              "      --hover-fill-color: #174EA6;\n",
              "      --disabled-fill-color: #AAA;\n",
              "      --disabled-bg-color: #DDD;\n",
              "  }\n",
              "\n",
              "  [theme=dark] .colab-df-quickchart {\n",
              "      --bg-color: #3B4455;\n",
              "      --fill-color: #D2E3FC;\n",
              "      --hover-bg-color: #434B5C;\n",
              "      --hover-fill-color: #FFFFFF;\n",
              "      --disabled-bg-color: #3B4455;\n",
              "      --disabled-fill-color: #666;\n",
              "  }\n",
              "\n",
              "  .colab-df-quickchart {\n",
              "    background-color: var(--bg-color);\n",
              "    border: none;\n",
              "    border-radius: 50%;\n",
              "    cursor: pointer;\n",
              "    display: none;\n",
              "    fill: var(--fill-color);\n",
              "    height: 32px;\n",
              "    padding: 0;\n",
              "    width: 32px;\n",
              "  }\n",
              "\n",
              "  .colab-df-quickchart:hover {\n",
              "    background-color: var(--hover-bg-color);\n",
              "    box-shadow: 0 1px 2px rgba(60, 64, 67, 0.3), 0 1px 3px 1px rgba(60, 64, 67, 0.15);\n",
              "    fill: var(--button-hover-fill-color);\n",
              "  }\n",
              "\n",
              "  .colab-df-quickchart-complete:disabled,\n",
              "  .colab-df-quickchart-complete:disabled:hover {\n",
              "    background-color: var(--disabled-bg-color);\n",
              "    fill: var(--disabled-fill-color);\n",
              "    box-shadow: none;\n",
              "  }\n",
              "\n",
              "  .colab-df-spinner {\n",
              "    border: 2px solid var(--fill-color);\n",
              "    border-color: transparent;\n",
              "    border-bottom-color: var(--fill-color);\n",
              "    animation:\n",
              "      spin 1s steps(1) infinite;\n",
              "  }\n",
              "\n",
              "  @keyframes spin {\n",
              "    0% {\n",
              "      border-color: transparent;\n",
              "      border-bottom-color: var(--fill-color);\n",
              "      border-left-color: var(--fill-color);\n",
              "    }\n",
              "    20% {\n",
              "      border-color: transparent;\n",
              "      border-left-color: var(--fill-color);\n",
              "      border-top-color: var(--fill-color);\n",
              "    }\n",
              "    30% {\n",
              "      border-color: transparent;\n",
              "      border-left-color: var(--fill-color);\n",
              "      border-top-color: var(--fill-color);\n",
              "      border-right-color: var(--fill-color);\n",
              "    }\n",
              "    40% {\n",
              "      border-color: transparent;\n",
              "      border-right-color: var(--fill-color);\n",
              "      border-top-color: var(--fill-color);\n",
              "    }\n",
              "    60% {\n",
              "      border-color: transparent;\n",
              "      border-right-color: var(--fill-color);\n",
              "    }\n",
              "    80% {\n",
              "      border-color: transparent;\n",
              "      border-right-color: var(--fill-color);\n",
              "      border-bottom-color: var(--fill-color);\n",
              "    }\n",
              "    90% {\n",
              "      border-color: transparent;\n",
              "      border-bottom-color: var(--fill-color);\n",
              "    }\n",
              "  }\n",
              "</style>\n",
              "\n",
              "  <script>\n",
              "    async function quickchart(key) {\n",
              "      const quickchartButtonEl =\n",
              "        document.querySelector('#' + key + ' button');\n",
              "      quickchartButtonEl.disabled = true;  // To prevent multiple clicks.\n",
              "      quickchartButtonEl.classList.add('colab-df-spinner');\n",
              "      try {\n",
              "        const charts = await google.colab.kernel.invokeFunction(\n",
              "            'suggestCharts', [key], {});\n",
              "      } catch (error) {\n",
              "        console.error('Error during call to suggestCharts:', error);\n",
              "      }\n",
              "      quickchartButtonEl.classList.remove('colab-df-spinner');\n",
              "      quickchartButtonEl.classList.add('colab-df-quickchart-complete');\n",
              "    }\n",
              "    (() => {\n",
              "      let quickchartButtonEl =\n",
              "        document.querySelector('#df-90a4a461-47c0-4027-b053-8ea5b9fc0f27 button');\n",
              "      quickchartButtonEl.style.display =\n",
              "        google.colab.kernel.accessAllowed ? 'block' : 'none';\n",
              "    })();\n",
              "  </script>\n",
              "</div>\n",
              "    </div>\n",
              "  </div>\n"
            ]
          },
          "metadata": {},
          "execution_count": 39
        }
      ]
    }
  ]
}